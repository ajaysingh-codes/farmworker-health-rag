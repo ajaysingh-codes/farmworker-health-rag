{
  "nbformat": 4,
  "nbformat_minor": 0,
  "metadata": {
    "colab": {
      "provenance": [],
      "authorship_tag": "ABX9TyMH4aU/Hc691/mKNN9PrexC",
      "include_colab_link": true
    },
    "kernelspec": {
      "name": "python3",
      "display_name": "Python 3"
    },
    "language_info": {
      "name": "python"
    }
  },
  "cells": [
    {
      "cell_type": "markdown",
      "metadata": {
        "id": "view-in-github",
        "colab_type": "text"
      },
      "source": [
        "<a href=\"https://colab.research.google.com/github/ajaysingh-codes/farmworker-health-rag/blob/main/farmworker_health_rag.ipynb\" target=\"_parent\"><img src=\"https://colab.research.google.com/assets/colab-badge.svg\" alt=\"Open In Colab\"/></a>"
      ]
    },
    {
      "cell_type": "markdown",
      "source": [
        "\n",
        "# 🌾 Farmworker Health Research RAG System\n",
        "\n",
        "**A smart search system for scientific literature on farmworker health, chemical exposures, and occupational stressors**\n",
        "\n",
        "Built with BM25 + Semantic Search | Interactive comparison interface | Optimized for health research papers\n",
        "\n",
        "---\n",
        "\n"
      ],
      "metadata": {
        "id": "QWo30qxeFUHZ"
      }
    },
    {
      "cell_type": "markdown",
      "source": [
        "## 📦 Installing Required Libraries\n",
        "This cell installs all the necessary Python packages for our RAG system:\n",
        "- `sentence-transformers`: For creating semantic embeddings of text\n",
        "- `bm25s`: For keyword-based search (BM25 algorithm)\n",
        "- `pypdf2`: For extracting text from PDF files\n",
        "- `pandas`: For data manipulation\n",
        "- `numpy`: For numerical operations\n",
        "- `joblib`: For saving/loading embeddings\n",
        "- `ipywidgets`: For creating the interactive interface"
      ],
      "metadata": {
        "id": "ADTRu2VUFzc_"
      }
    },
    {
      "cell_type": "code",
      "source": [
        "!pip install sentence-transformers bm25s pypdf2 pandas numpy joblib ipywidgets -q\n",
        "print(\"Libraries installed successfully\")"
      ],
      "metadata": {
        "colab": {
          "base_uri": "https://localhost:8080/"
        },
        "id": "SMbo3Du8FW-P",
        "outputId": "ea3d8812-eebc-4c9f-c4fb-a40429bba2f5"
      },
      "execution_count": 1,
      "outputs": [
        {
          "output_type": "stream",
          "name": "stdout",
          "text": [
            "\u001b[?25l   \u001b[90m━━━━━━━━━━━━━━━━━━━━━━━━━━━━━━━━━━━━━━━━\u001b[0m \u001b[32m0.0/54.5 kB\u001b[0m \u001b[31m?\u001b[0m eta \u001b[36m-:--:--\u001b[0m\r\u001b[2K   \u001b[90m━━━━━━━━━━━━━━━━━━━━━━━━━━━━━━━━━━━━━━━━\u001b[0m \u001b[32m54.5/54.5 kB\u001b[0m \u001b[31m2.5 MB/s\u001b[0m eta \u001b[36m0:00:00\u001b[0m\n",
            "\u001b[2K   \u001b[90m━━━━━━━━━━━━━━━━━━━━━━━━━━━━━━━━━━━━━━━━\u001b[0m \u001b[32m232.6/232.6 kB\u001b[0m \u001b[31m9.4 MB/s\u001b[0m eta \u001b[36m0:00:00\u001b[0m\n",
            "\u001b[2K   \u001b[90m━━━━━━━━━━━━━━━━━━━━━━━━━━━━━━━━━━━━━━━━\u001b[0m \u001b[32m363.4/363.4 MB\u001b[0m \u001b[31m4.1 MB/s\u001b[0m eta \u001b[36m0:00:00\u001b[0m\n",
            "\u001b[2K   \u001b[90m━━━━━━━━━━━━━━━━━━━━━━━━━━━━━━━━━━━━━━━━\u001b[0m \u001b[32m13.8/13.8 MB\u001b[0m \u001b[31m65.4 MB/s\u001b[0m eta \u001b[36m0:00:00\u001b[0m\n",
            "\u001b[2K   \u001b[90m━━━━━━━━━━━━━━━━━━━━━━━━━━━━━━━━━━━━━━━━\u001b[0m \u001b[32m24.6/24.6 MB\u001b[0m \u001b[31m34.5 MB/s\u001b[0m eta \u001b[36m0:00:00\u001b[0m\n",
            "\u001b[2K   \u001b[90m━━━━━━━━━━━━━━━━━━━━━━━━━━━━━━━━━━━━━━━━\u001b[0m \u001b[32m883.7/883.7 kB\u001b[0m \u001b[31m37.0 MB/s\u001b[0m eta \u001b[36m0:00:00\u001b[0m\n",
            "\u001b[2K   \u001b[90m━━━━━━━━━━━━━━━━━━━━━━━━━━━━━━━━━━━━━━━━\u001b[0m \u001b[32m664.8/664.8 MB\u001b[0m \u001b[31m2.1 MB/s\u001b[0m eta \u001b[36m0:00:00\u001b[0m\n",
            "\u001b[2K   \u001b[90m━━━━━━━━━━━━━━━━━━━━━━━━━━━━━━━━━━━━━━━━\u001b[0m \u001b[32m211.5/211.5 MB\u001b[0m \u001b[31m5.7 MB/s\u001b[0m eta \u001b[36m0:00:00\u001b[0m\n",
            "\u001b[2K   \u001b[90m━━━━━━━━━━━━━━━━━━━━━━━━━━━━━━━━━━━━━━━━\u001b[0m \u001b[32m56.3/56.3 MB\u001b[0m \u001b[31m12.9 MB/s\u001b[0m eta \u001b[36m0:00:00\u001b[0m\n",
            "\u001b[2K   \u001b[90m━━━━━━━━━━━━━━━━━━━━━━━━━━━━━━━━━━━━━━━━\u001b[0m \u001b[32m127.9/127.9 MB\u001b[0m \u001b[31m6.9 MB/s\u001b[0m eta \u001b[36m0:00:00\u001b[0m\n",
            "\u001b[2K   \u001b[90m━━━━━━━━━━━━━━━━━━━━━━━━━━━━━━━━━━━━━━━━\u001b[0m \u001b[32m207.5/207.5 MB\u001b[0m \u001b[31m6.5 MB/s\u001b[0m eta \u001b[36m0:00:00\u001b[0m\n",
            "\u001b[2K   \u001b[90m━━━━━━━━━━━━━━━━━━━━━━━━━━━━━━━━━━━━━━━━\u001b[0m \u001b[32m188.7/188.7 MB\u001b[0m \u001b[31m6.1 MB/s\u001b[0m eta \u001b[36m0:00:00\u001b[0m\n",
            "\u001b[2K   \u001b[90m━━━━━━━━━━━━━━━━━━━━━━━━━━━━━━━━━━━━━━━━\u001b[0m \u001b[32m21.1/21.1 MB\u001b[0m \u001b[31m87.5 MB/s\u001b[0m eta \u001b[36m0:00:00\u001b[0m\n",
            "\u001b[2K   \u001b[90m━━━━━━━━━━━━━━━━━━━━━━━━━━━━━━━━━━━━━━━━\u001b[0m \u001b[32m1.6/1.6 MB\u001b[0m \u001b[31m63.6 MB/s\u001b[0m eta \u001b[36m0:00:00\u001b[0m\n",
            "\u001b[?25hLibraries installed successfully\n"
          ]
        }
      ]
    },
    {
      "cell_type": "markdown",
      "source": [
        "## Importing Libraries and Creating Workspace\n",
        "This cell:\n",
        "1. Imports all the libraries we'll use throughout the project\n",
        "2. Creates a dedicated folder `/content/papers` for your PDF files\n",
        "3. Sets up the basic environment for our RAG system"
      ],
      "metadata": {
        "id": "0adljKo_H2ZO"
      }
    },
    {
      "cell_type": "code",
      "execution_count": 3,
      "metadata": {
        "colab": {
          "base_uri": "https://localhost:8080/"
        },
        "id": "tKwRGdlH4XBF",
        "outputId": "38c78312-b8cf-4d91-aad3-916d33f3cbc5"
      },
      "outputs": [
        {
          "output_type": "stream",
          "name": "stdout",
          "text": [
            "✅ Created folder: /content/papers\n"
          ]
        }
      ],
      "source": [
        "# Import all necessary libraries\n",
        "import os\n",
        "import pandas as pd\n",
        "import numpy as np\n",
        "import bm25s\n",
        "import joblib\n",
        "from sentence_transformers import SentenceTransformer\n",
        "from IPython.display import display, Markdown\n",
        "import ipywidgets as widgets\n",
        "from PyPDF2 import PdfReader\n",
        "from datetime import datetime\n",
        "\n",
        "# Create a folder for your PDFs\n",
        "pdf_folder = \"/content/papers\"\n",
        "if not os.path.exists(pdf_folder):\n",
        "    os.makedirs(pdf_folder)\n",
        "    print(f\"✅ Created folder: {pdf_folder}\")\n",
        "else:\n",
        "    print(f\"📁 Folder already exists: {pdf_folder}\")"
      ]
    },
    {
      "cell_type": "markdown",
      "source": [
        "## 📤 Upload Your Research Papers\n",
        "Upload your 5 PDF papers about farmworker health:\n",
        "- Click 'Choose Files' to select your PDFs\n",
        "- Papers will be moved to the `papers` folder\n",
        "- You'll see confirmation for each uploaded file"
      ],
      "metadata": {
        "id": "LyjiJSd2JV8K"
      }
    },
    {
      "cell_type": "code",
      "source": [
        "from google.colab import files\n",
        "\n",
        "print(\"Click 'Choose Files' below to upload your 5 PDFs:\\n\")\n",
        "\n",
        "uploaded = files.upload()\n",
        "\n",
        "# Move uploaded files to the papers folder\n",
        "for filename in uploaded.keys():\n",
        "    destination = os.path.join(pdf_folder, filename)\n",
        "    os.rename(filename, destination)\n",
        "    print(f\"✅ Uploaded: {filename}\")\n",
        "\n",
        "# Verify and list all PDFs in the folder\n",
        "pdf_files = [f for f in os.listdir(pdf_folder) if f.endswith('.pdf')]\n",
        "print(f\"📊 Total PDFs in folder: {len(pdf_files)}\")\n",
        "for i, pdf in enumerate(pdf_files, 1):\n",
        "    print(f\"  {i}. {pdf}\")"
      ],
      "metadata": {
        "colab": {
          "base_uri": "https://localhost:8080/",
          "height": 614
        },
        "id": "7hlh6-xJJVg-",
        "outputId": "656d2a25-4018-484b-e982-26eb1368111b"
      },
      "execution_count": 4,
      "outputs": [
        {
          "output_type": "stream",
          "name": "stdout",
          "text": [
            "Click 'Choose Files' below to upload your 5 PDFs:\n",
            "\n"
          ]
        },
        {
          "output_type": "display_data",
          "data": {
            "text/plain": [
              "<IPython.core.display.HTML object>"
            ],
            "text/html": [
              "\n",
              "     <input type=\"file\" id=\"files-9f2d7ed3-ca71-4f90-9b4b-7c1d4006829f\" name=\"files[]\" multiple disabled\n",
              "        style=\"border:none\" />\n",
              "     <output id=\"result-9f2d7ed3-ca71-4f90-9b4b-7c1d4006829f\">\n",
              "      Upload widget is only available when the cell has been executed in the\n",
              "      current browser session. Please rerun this cell to enable.\n",
              "      </output>\n",
              "      <script>// Copyright 2017 Google LLC\n",
              "//\n",
              "// Licensed under the Apache License, Version 2.0 (the \"License\");\n",
              "// you may not use this file except in compliance with the License.\n",
              "// You may obtain a copy of the License at\n",
              "//\n",
              "//      http://www.apache.org/licenses/LICENSE-2.0\n",
              "//\n",
              "// Unless required by applicable law or agreed to in writing, software\n",
              "// distributed under the License is distributed on an \"AS IS\" BASIS,\n",
              "// WITHOUT WARRANTIES OR CONDITIONS OF ANY KIND, either express or implied.\n",
              "// See the License for the specific language governing permissions and\n",
              "// limitations under the License.\n",
              "\n",
              "/**\n",
              " * @fileoverview Helpers for google.colab Python module.\n",
              " */\n",
              "(function(scope) {\n",
              "function span(text, styleAttributes = {}) {\n",
              "  const element = document.createElement('span');\n",
              "  element.textContent = text;\n",
              "  for (const key of Object.keys(styleAttributes)) {\n",
              "    element.style[key] = styleAttributes[key];\n",
              "  }\n",
              "  return element;\n",
              "}\n",
              "\n",
              "// Max number of bytes which will be uploaded at a time.\n",
              "const MAX_PAYLOAD_SIZE = 100 * 1024;\n",
              "\n",
              "function _uploadFiles(inputId, outputId) {\n",
              "  const steps = uploadFilesStep(inputId, outputId);\n",
              "  const outputElement = document.getElementById(outputId);\n",
              "  // Cache steps on the outputElement to make it available for the next call\n",
              "  // to uploadFilesContinue from Python.\n",
              "  outputElement.steps = steps;\n",
              "\n",
              "  return _uploadFilesContinue(outputId);\n",
              "}\n",
              "\n",
              "// This is roughly an async generator (not supported in the browser yet),\n",
              "// where there are multiple asynchronous steps and the Python side is going\n",
              "// to poll for completion of each step.\n",
              "// This uses a Promise to block the python side on completion of each step,\n",
              "// then passes the result of the previous step as the input to the next step.\n",
              "function _uploadFilesContinue(outputId) {\n",
              "  const outputElement = document.getElementById(outputId);\n",
              "  const steps = outputElement.steps;\n",
              "\n",
              "  const next = steps.next(outputElement.lastPromiseValue);\n",
              "  return Promise.resolve(next.value.promise).then((value) => {\n",
              "    // Cache the last promise value to make it available to the next\n",
              "    // step of the generator.\n",
              "    outputElement.lastPromiseValue = value;\n",
              "    return next.value.response;\n",
              "  });\n",
              "}\n",
              "\n",
              "/**\n",
              " * Generator function which is called between each async step of the upload\n",
              " * process.\n",
              " * @param {string} inputId Element ID of the input file picker element.\n",
              " * @param {string} outputId Element ID of the output display.\n",
              " * @return {!Iterable<!Object>} Iterable of next steps.\n",
              " */\n",
              "function* uploadFilesStep(inputId, outputId) {\n",
              "  const inputElement = document.getElementById(inputId);\n",
              "  inputElement.disabled = false;\n",
              "\n",
              "  const outputElement = document.getElementById(outputId);\n",
              "  outputElement.innerHTML = '';\n",
              "\n",
              "  const pickedPromise = new Promise((resolve) => {\n",
              "    inputElement.addEventListener('change', (e) => {\n",
              "      resolve(e.target.files);\n",
              "    });\n",
              "  });\n",
              "\n",
              "  const cancel = document.createElement('button');\n",
              "  inputElement.parentElement.appendChild(cancel);\n",
              "  cancel.textContent = 'Cancel upload';\n",
              "  const cancelPromise = new Promise((resolve) => {\n",
              "    cancel.onclick = () => {\n",
              "      resolve(null);\n",
              "    };\n",
              "  });\n",
              "\n",
              "  // Wait for the user to pick the files.\n",
              "  const files = yield {\n",
              "    promise: Promise.race([pickedPromise, cancelPromise]),\n",
              "    response: {\n",
              "      action: 'starting',\n",
              "    }\n",
              "  };\n",
              "\n",
              "  cancel.remove();\n",
              "\n",
              "  // Disable the input element since further picks are not allowed.\n",
              "  inputElement.disabled = true;\n",
              "\n",
              "  if (!files) {\n",
              "    return {\n",
              "      response: {\n",
              "        action: 'complete',\n",
              "      }\n",
              "    };\n",
              "  }\n",
              "\n",
              "  for (const file of files) {\n",
              "    const li = document.createElement('li');\n",
              "    li.append(span(file.name, {fontWeight: 'bold'}));\n",
              "    li.append(span(\n",
              "        `(${file.type || 'n/a'}) - ${file.size} bytes, ` +\n",
              "        `last modified: ${\n",
              "            file.lastModifiedDate ? file.lastModifiedDate.toLocaleDateString() :\n",
              "                                    'n/a'} - `));\n",
              "    const percent = span('0% done');\n",
              "    li.appendChild(percent);\n",
              "\n",
              "    outputElement.appendChild(li);\n",
              "\n",
              "    const fileDataPromise = new Promise((resolve) => {\n",
              "      const reader = new FileReader();\n",
              "      reader.onload = (e) => {\n",
              "        resolve(e.target.result);\n",
              "      };\n",
              "      reader.readAsArrayBuffer(file);\n",
              "    });\n",
              "    // Wait for the data to be ready.\n",
              "    let fileData = yield {\n",
              "      promise: fileDataPromise,\n",
              "      response: {\n",
              "        action: 'continue',\n",
              "      }\n",
              "    };\n",
              "\n",
              "    // Use a chunked sending to avoid message size limits. See b/62115660.\n",
              "    let position = 0;\n",
              "    do {\n",
              "      const length = Math.min(fileData.byteLength - position, MAX_PAYLOAD_SIZE);\n",
              "      const chunk = new Uint8Array(fileData, position, length);\n",
              "      position += length;\n",
              "\n",
              "      const base64 = btoa(String.fromCharCode.apply(null, chunk));\n",
              "      yield {\n",
              "        response: {\n",
              "          action: 'append',\n",
              "          file: file.name,\n",
              "          data: base64,\n",
              "        },\n",
              "      };\n",
              "\n",
              "      let percentDone = fileData.byteLength === 0 ?\n",
              "          100 :\n",
              "          Math.round((position / fileData.byteLength) * 100);\n",
              "      percent.textContent = `${percentDone}% done`;\n",
              "\n",
              "    } while (position < fileData.byteLength);\n",
              "  }\n",
              "\n",
              "  // All done.\n",
              "  yield {\n",
              "    response: {\n",
              "      action: 'complete',\n",
              "    }\n",
              "  };\n",
              "}\n",
              "\n",
              "scope.google = scope.google || {};\n",
              "scope.google.colab = scope.google.colab || {};\n",
              "scope.google.colab._files = {\n",
              "  _uploadFiles,\n",
              "  _uploadFilesContinue,\n",
              "};\n",
              "})(self);\n",
              "</script> "
            ]
          },
          "metadata": {}
        },
        {
          "output_type": "stream",
          "name": "stdout",
          "text": [
            "Saving A_more_than_four-fold_sex-specific_difference_of_autism_spectrum_disorders_and_the_possible_contribu.pdf to A_more_than_four-fold_sex-specific_difference_of_autism_spectrum_disorders_and_the_possible_contribu.pdf\n",
            "Saving Adverse_childhood_experiences_and_its_association_with_emotional_and_behavioral_problems_in_US_child.pdf to Adverse_childhood_experiences_and_its_association_with_emotional_and_behavioral_problems_in_US_child.pdf\n",
            "Saving Agricultural_exposures_and_risk_of_childhood_neuroblastoma_a_systematic_review_and_meta-analysis.pdf to Agricultural_exposures_and_risk_of_childhood_neuroblastoma_a_systematic_review_and_meta-analysis.pdf\n",
            "Saving Autism_Spectrum_Disorder_and_Prenatal_or_Early_Life_Exposure_to_Pesticides_A_Short_Review.pdf to Autism_Spectrum_Disorder_and_Prenatal_or_Early_Life_Exposure_to_Pesticides_A_Short_Review.pdf\n",
            "Saving Exposure_to_pesticides_and_childhood_leukemia_risk_A_systematic_review_and_meta-analysis.pdf to Exposure_to_pesticides_and_childhood_leukemia_risk_A_systematic_review_and_meta-analysis.pdf\n",
            "✅ Uploaded: A_more_than_four-fold_sex-specific_difference_of_autism_spectrum_disorders_and_the_possible_contribu.pdf\n",
            "✅ Uploaded: Adverse_childhood_experiences_and_its_association_with_emotional_and_behavioral_problems_in_US_child.pdf\n",
            "✅ Uploaded: Agricultural_exposures_and_risk_of_childhood_neuroblastoma_a_systematic_review_and_meta-analysis.pdf\n",
            "✅ Uploaded: Autism_Spectrum_Disorder_and_Prenatal_or_Early_Life_Exposure_to_Pesticides_A_Short_Review.pdf\n",
            "✅ Uploaded: Exposure_to_pesticides_and_childhood_leukemia_risk_A_systematic_review_and_meta-analysis.pdf\n",
            "📊 Total PDFs in folder: 5\n",
            "  1. Exposure_to_pesticides_and_childhood_leukemia_risk_A_systematic_review_and_meta-analysis.pdf\n",
            "  2. A_more_than_four-fold_sex-specific_difference_of_autism_spectrum_disorders_and_the_possible_contribu.pdf\n",
            "  3. Agricultural_exposures_and_risk_of_childhood_neuroblastoma_a_systematic_review_and_meta-analysis.pdf\n",
            "  4. Autism_Spectrum_Disorder_and_Prenatal_or_Early_Life_Exposure_to_Pesticides_A_Short_Review.pdf\n",
            "  5. Adverse_childhood_experiences_and_its_association_with_emotional_and_behavioral_problems_in_US_child.pdf\n"
          ]
        }
      ]
    },
    {
      "cell_type": "code",
      "source": [],
      "metadata": {
        "id": "uydg2JLDI3K7"
      },
      "execution_count": null,
      "outputs": []
    }
  ]
}